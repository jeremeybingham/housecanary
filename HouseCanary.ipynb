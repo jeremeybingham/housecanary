{
 "cells": [
  {
   "cell_type": "code",
   "execution_count": 18,
   "metadata": {
    "collapsed": false
   },
   "outputs": [
    {
     "name": "stdout",
     "output_type": "stream",
     "text": [
      "Wednesday March 02 2022, 04:59:46 PM \n"
     ]
    }
   ],
   "source": [
    "from datetime import datetime\n",
    "from pytz import timezone\n",
    "\n",
    "time_string = datetime.now().strftime('%A %B %d %Y, %I:%M:%S %p %Z')\n",
    "print(time_string)"
   ]
  },
  {
   "cell_type": "code",
   "execution_count": 26,
   "metadata": {
    "collapsed": false
   },
   "outputs": [
    {
     "name": "stdout",
     "output_type": "stream",
     "text": [
      "2022-03-02 12:06:33.160568-05:00\n",
      "<class 'datetime.datetime'>\n",
      "Wednesday March 02 2022, 12:06:33 PM EST\n",
      "<class 'str'>\n",
      "31b459ef-70f0-48ff-b34d-18b0affb796f\n",
      "<class 'str'>\n"
     ]
    }
   ],
   "source": [
    "from datetime import datetime\n",
    "from delorean import Delorean\n",
    "import uuid\n",
    "import json\n",
    "\n",
    "\n",
    "# get a tz-adjusted datetime object of the current time\n",
    "time_stamp = Delorean().shift('US/Eastern').datetime\n",
    "print(time_stamp)\n",
    "print(type(time_stamp))\n",
    "\n",
    "# convert it to a friendly string\n",
    "time_string = time_stamp.strftime('%A %B %d %Y, %I:%M:%S %p %Z')\n",
    "print(time_string)\n",
    "print(type(time_string))\n",
    "\n",
    "uid = str(uuid.uuid4())\n",
    "print(uid)\n",
    "print(type(uid))"
   ]
  },
  {
   "cell_type": "code",
   "execution_count": 27,
   "metadata": {
    "collapsed": false
   },
   "outputs": [
    {
     "name": "stdout",
     "output_type": "stream",
     "text": [
      "2022-03-02 12:12:03.671693-05:00\n",
      "<class 'datetime.datetime'>\n",
      "Wednesday March 02 2022, 12:12:03 PM EST\n",
      "<class 'str'>\n",
      "974112a5-13fd-4e38-8ab0-ac244ab204f7\n",
      "<class 'str'>\n",
      "{'time_stamp': datetime.datetime(2022, 3, 2, 12, 12, 3, 671693, tzinfo=<DstTzInfo 'US/Eastern' EST-1 day, 19:00:00 STD>), 'time_string': 'Wednesday March 02 2022, 12:12:03 PM EST', 'uid': '974112a5-13fd-4e38-8ab0-ac244ab204f7'}\n"
     ]
    }
   ],
   "source": [
    "from datetime import datetime\n",
    "from delorean import Delorean\n",
    "import uuid\n",
    "import json\n",
    "\n",
    "# create a blank dict to hold JSON elements\n",
    "time_dict = {}\n",
    "\n",
    "# get a tz-adjusted datetime object of the current time\n",
    "time_stamp = Delorean().shift('US/Eastern').datetime\n",
    "print(time_stamp)\n",
    "print(type(time_stamp))\n",
    "\n",
    "# convert it to a friendly string\n",
    "time_string = time_stamp.strftime('%A %B %d %Y, %I:%M:%S %p %Z')\n",
    "print(time_string)\n",
    "print(type(time_string))\n",
    "\n",
    "# create a unique id for the request\n",
    "uid = str(uuid.uuid4())\n",
    "print(uid)\n",
    "print(type(uid))\n",
    "\n",
    "# add elements to dict\n",
    "time_dict['time_stamp']=time_stamp\n",
    "time_dict['time_string']=time_string\n",
    "time_dict['uid']=uid\n",
    "print(time_dict)"
   ]
  },
  {
   "cell_type": "code",
   "execution_count": 31,
   "metadata": {
    "collapsed": false,
    "scrolled": true
   },
   "outputs": [
    {
     "name": "stdout",
     "output_type": "stream",
     "text": [
      "2022-03-02 12:19:08.929504-05:00\n",
      "<class 'datetime.datetime'>\n",
      "2022-03-02T12:19:08.929504-05:00\n",
      "<class 'str'>\n",
      "Wednesday March 02 2022, 12:19:08 PM EST\n",
      "<class 'str'>\n",
      "a25fbc71-f2d4-4c04-b1f7-c858a3520c54\n",
      "<class 'str'>\n",
      "{'iso_time_stamp': '2022-03-02T12:19:08.929504-05:00', 'time_string': 'Wednesday March 02 2022, 12:19:08 PM EST', 'uid': 'a25fbc71-f2d4-4c04-b1f7-c858a3520c54'}\n",
      "{\"iso_time_stamp\": \"2022-03-02T12:19:08.929504-05:00\", \"time_string\": \"Wednesday March 02 2022, 12:19:08 PM EST\", \"uid\": \"a25fbc71-f2d4-4c04-b1f7-c858a3520c54\"}\n",
      "<class 'str'>\n"
     ]
    }
   ],
   "source": [
    "from datetime import datetime\n",
    "from delorean import Delorean\n",
    "import uuid\n",
    "import json\n",
    "\n",
    "# create a blank dict to hold JSON elements\n",
    "time_dict = {}\n",
    "\n",
    "# get a tz-adjusted datetime object of the current time\n",
    "datetime_now = Delorean().shift('US/Eastern').datetime\n",
    "print(datetime_now)\n",
    "print(type(datetime_now))\n",
    "\n",
    "iso_time_stamp = datetime_now.isoformat()\n",
    "print(iso_time_stamp)\n",
    "print(type(iso_time_stamp))\n",
    "\n",
    "# convert it to a friendly string\n",
    "time_string = datetime_now.strftime('%A %B %d %Y, %I:%M:%S %p %Z')\n",
    "print(time_string)\n",
    "print(type(time_string))\n",
    "\n",
    "# create a unique id for the request\n",
    "uid = str(uuid.uuid4())\n",
    "print(uid)\n",
    "print(type(uid))\n",
    "\n",
    "# add elements to dict\n",
    "time_dict['iso_time_stamp']=iso_time_stamp\n",
    "time_dict['time_string']=time_string\n",
    "time_dict['uid']=uid\n",
    "print(time_dict)\n",
    "\n",
    "# create JSON response\n",
    "json_response = json.dumps(time_dict)\n",
    "print(json_response)\n",
    "print(type(json_response))"
   ]
  },
  {
   "cell_type": "code",
   "execution_count": 32,
   "metadata": {
    "collapsed": false,
    "scrolled": false
   },
   "outputs": [
    {
     "name": "stdout",
     "output_type": "stream",
     "text": [
      "ISO 8601 Timestamp:\n",
      "2022-03-02T12:22:33.227622-05:00\n",
      "<class 'str'>\n",
      " \n",
      "Friendly Time:\n",
      "Wednesday March 02 2022, 12:22:33 PM EST\n",
      "<class 'str'>\n",
      " \n",
      "Request UID:\n",
      "62f9cfc8-2397-420e-bd3e-31475990a69c\n",
      "<class 'str'>\n",
      " \n",
      "JSON Response:\n",
      "{\"iso_time_stamp\": \"2022-03-02T12:22:33.227622-05:00\", \"time_string\": \"Wednesday March 02 2022, 12:22:33 PM EST\", \"uid\": \"62f9cfc8-2397-420e-bd3e-31475990a69c\"}\n",
      "<class 'str'>\n"
     ]
    }
   ],
   "source": [
    "from datetime import datetime\n",
    "from delorean import Delorean\n",
    "import uuid\n",
    "import json\n",
    "\n",
    "# create a blank dict to hold JSON elements\n",
    "time_dict = {}\n",
    "\n",
    "# get a tz-adjusted datetime object of the current time\n",
    "datetime_now = Delorean().shift('US/Eastern').datetime\n",
    "#print(datetime_now)\n",
    "#print(type(datetime_now))\n",
    "\n",
    "\n",
    "iso_time_stamp = datetime_now.isoformat()\n",
    "print('ISO 8601 Timestamp:')\n",
    "print(iso_time_stamp)\n",
    "print(type(iso_time_stamp))\n",
    "print(' ')\n",
    "\n",
    "\n",
    "# convert it to a friendly string\n",
    "time_string = datetime_now.strftime('%A %B %d %Y, %I:%M:%S %p %Z')\n",
    "print('Friendly Time:')\n",
    "print(time_string)\n",
    "print(type(time_string))\n",
    "print(' ')\n",
    "\n",
    "\n",
    "# create a unique id for the request\n",
    "uid = str(uuid.uuid4())\n",
    "print('Request UID:')\n",
    "print(uid)\n",
    "print(type(uid))\n",
    "print(' ')\n",
    "\n",
    "\n",
    "# add elements to dict\n",
    "time_dict['iso_time_stamp']=iso_time_stamp\n",
    "time_dict['time_string']=time_string\n",
    "time_dict['uid']=uid\n",
    "#print(time_dict)\n",
    "\n",
    "\n",
    "# create JSON response\n",
    "json_response = json.dumps(time_dict)\n",
    "print('JSON Response:')\n",
    "print(json_response)\n",
    "print(type(json_response))"
   ]
  },
  {
   "cell_type": "code",
   "execution_count": 34,
   "metadata": {
    "collapsed": false
   },
   "outputs": [
    {
     "name": "stdout",
     "output_type": "stream",
     "text": [
      "{\"iso_time_stamp\": \"2022-03-02T12:28:39.497258-05:00\", \"time_string\": \"Wednesday March 02 2022, 12:28:39 PM EST\", \"uid\": \"d85d722f-4992-48ef-a45c-b056b24c1b71\"}\n"
     ]
    }
   ],
   "source": [
    "from delorean import Delorean\n",
    "import uuid\n",
    "import json\n",
    "\n",
    "# create a blank dict to hold JSON elements\n",
    "time_dict = {}\n",
    "\n",
    "# get a tz-adjusted datetime object of the current time\n",
    "datetime_now = Delorean().shift('US/Eastern').datetime\n",
    "\n",
    "# get an ISO 8601 timestamp\n",
    "iso_time_stamp = datetime_now.isoformat()\n",
    "\n",
    "# convert it to a friendly string\n",
    "time_string = datetime_now.strftime('%A %B %d %Y, %I:%M:%S %p %Z')\n",
    "\n",
    "# create a unique id for the request\n",
    "uid = str(uuid.uuid4())\n",
    "\n",
    "# add elements to dict\n",
    "time_dict['iso_time_stamp']=iso_time_stamp\n",
    "time_dict['time_string']=time_string\n",
    "time_dict['uid']=uid\n",
    "\n",
    "# create JSON response\n",
    "json_response = json.dumps(time_dict)\n",
    "print(json_response)\n"
   ]
  },
  {
   "cell_type": "code",
   "execution_count": 63,
   "metadata": {
    "collapsed": false
   },
   "outputs": [
    {
     "name": "stdout",
     "output_type": "stream",
     "text": [
      "[('73.68.73.85', 2)]\n",
      "<class 'list'>\n",
      "('73.68.73.85', 2)\n",
      "2\n",
      "[('73.68.73.85', 2)]\n"
     ]
    }
   ],
   "source": [
    "import datetime\n",
    "from collections import Counter\n",
    "\n",
    "returned_package = [('73.68.73.85', datetime.datetime(2022, 3, 3, 23, 36, 15, 702000)), \\\n",
    "                    ('73.68.73.95', datetime.datetime(2022, 3, 3, 23, 36, 16, 110000)), \\\n",
    "                    ('73.68.73.85', datetime.datetime(2022, 3, 3, 23, 36, 16, 869000))]\n",
    "\n",
    "x = Counter([k for (k,v) in returned_package]).most_common(1)\n",
    "y = Counter([k for (k,v) in returned_package]).most_common(1)[0]\n",
    "z = Counter([k for (k,v) in returned_package]).most_common(1)[0][1]\n",
    "xx = str(Counter([k for (k,v) in returned_package]).most_common(1))\n",
    "\n",
    "print(x)\n",
    "print(type(x))\n",
    "print(y)\n",
    "print(z)\n",
    "print(xx)"
   ]
  },
  {
   "cell_type": "code",
   "execution_count": 91,
   "metadata": {
    "collapsed": false
   },
   "outputs": [
    {
     "name": "stdout",
     "output_type": "stream",
     "text": [
      "Counter({'73.68.73.85': 6, '23.68.73.85': 3, '83.68.73.85': 2, '93.68.73.85': 1, '13.68.73.85': 1})\n",
      "13\n",
      "[6]\n",
      "[('73.68.73.85', 6)]\n",
      "('73.68.73.85', 6)\n",
      "6\n",
      "[('73.68.73.85', 6)]\n",
      "true\n",
      "true\n"
     ]
    }
   ],
   "source": [
    "fetch_sql = [('73.68.73.85', datetime.datetime(2022, 3, 4, 10, 46, 26, 523000)), \\\n",
    "             ('73.68.73.85', datetime.datetime(2022, 3, 4, 10, 46, 27, 21000)), \\\n",
    "             ('73.68.73.85', datetime.datetime(2022, 3, 4, 10, 46, 27, 592000)), \\\n",
    "             ('73.68.73.85', datetime.datetime(2022, 3, 4, 10, 47, 3, 517000)), \\\n",
    "             ('83.68.73.85', datetime.datetime(2022, 3, 4, 10, 47, 4, 206000)), \\\n",
    "             ('83.68.73.85', datetime.datetime(2022, 3, 4, 10, 47, 4, 816000)), \\\n",
    "             ('93.68.73.85', datetime.datetime(2022, 3, 4, 10, 47, 8, 902000)), \\\n",
    "             ('13.68.73.85', datetime.datetime(2022, 3, 4, 10, 47, 9, 120000)), \\\n",
    "             ('23.68.73.85', datetime.datetime(2022, 3, 4, 10, 47, 9, 323000)), \\\n",
    "             ('23.68.73.85', datetime.datetime(2022, 3, 4, 10, 47, 13, 134000)), \\\n",
    "             ('23.68.73.85', datetime.datetime(2022, 3, 4, 10, 47, 13, 320000)), \\\n",
    "             ('73.68.73.85', datetime.datetime(2022, 3, 4, 10, 47, 13, 501000)), \\\n",
    "             ('73.68.73.85', datetime.datetime(2022, 3, 4, 10, 47, 13, 670000))]\n",
    "\n",
    "requester_ip = '73.68.73.85'\n",
    "\n",
    "counter = Counter([k for (k,v) in fetch_sql])\n",
    "requests_total = sum(counter.values())\n",
    "print(counter)\n",
    "print(requests_total)\n",
    "\n",
    "current_client_requests = [v for k, v in counter.items() if requester_ip in k]\n",
    "print(current_client_requests)\n",
    "\n",
    "x = Counter([k for (k,v) in fetch_sql]).most_common(1)\n",
    "y = Counter([k for (k,v) in fetch_sql]).most_common(1)[0]\n",
    "z = Counter([k for (k,v) in fetch_sql]).most_common(1)[0][1]\n",
    "xx = str(Counter([k for (k,v) in fetch_sql]).most_common(1))\n",
    "\n",
    "\n",
    "print(b)\n",
    "print(x)\n",
    "print(y)\n",
    "print(z)\n",
    "print(xx)\n",
    "\n",
    "if b:\n",
    "    print('true')\n",
    "else:\n",
    "    print('false')\n",
    "    \n",
    "if b and b[0] > 1:\n",
    "    print('true')\n",
    "else:\n",
    "    print('false')"
   ]
  },
  {
   "cell_type": "code",
   "execution_count": 95,
   "metadata": {
    "collapsed": false
   },
   "outputs": [
    {
     "name": "stdout",
     "output_type": "stream",
     "text": [
      "Counter({'73.68.73.85': 6, '23.68.73.85': 3, '83.68.73.85': 2, '93.68.73.85': 1, '13.68.73.85': 1})\n",
      "13\n",
      "[]\n",
      "false\n"
     ]
    }
   ],
   "source": [
    "fetch_sql = [('73.68.73.85', datetime.datetime(2022, 3, 4, 10, 46, 26, 523000)), \\\n",
    "             ('73.68.73.85', datetime.datetime(2022, 3, 4, 10, 46, 27, 21000)), \\\n",
    "             ('73.68.73.85', datetime.datetime(2022, 3, 4, 10, 46, 27, 592000)), \\\n",
    "             ('73.68.73.85', datetime.datetime(2022, 3, 4, 10, 47, 3, 517000)), \\\n",
    "             ('83.68.73.85', datetime.datetime(2022, 3, 4, 10, 47, 4, 206000)), \\\n",
    "             ('83.68.73.85', datetime.datetime(2022, 3, 4, 10, 47, 4, 816000)), \\\n",
    "             ('93.68.73.85', datetime.datetime(2022, 3, 4, 10, 47, 8, 902000)), \\\n",
    "             ('13.68.73.85', datetime.datetime(2022, 3, 4, 10, 47, 9, 120000)), \\\n",
    "             ('23.68.73.85', datetime.datetime(2022, 3, 4, 10, 47, 9, 323000)), \\\n",
    "             ('23.68.73.85', datetime.datetime(2022, 3, 4, 10, 47, 13, 134000)), \\\n",
    "             ('23.68.73.85', datetime.datetime(2022, 3, 4, 10, 47, 13, 320000)), \\\n",
    "             ('73.68.73.85', datetime.datetime(2022, 3, 4, 10, 47, 13, 501000)), \\\n",
    "             ('73.68.73.85', datetime.datetime(2022, 3, 4, 10, 47, 13, 670000))]\n",
    "\n",
    "requester_ip = '73.68.73.80'\n",
    "limit_single_client = 3\n",
    "\n",
    "counter = Counter([k for (k,v) in fetch_sql])\n",
    "requests_total = sum(counter.values())\n",
    "print(counter)\n",
    "print(requests_total)\n",
    "\n",
    "current_client_requests = [v for k, v in counter.items() if requester_ip in k]\n",
    "print(current_client_requests)\n",
    "\n",
    "\n",
    "if current_client_requests and current_client_requests[0] > limit_single_client:\n",
    "    print('true')\n",
    "else:\n",
    "    print('false')"
   ]
  },
  {
   "cell_type": "code",
   "execution_count": null,
   "metadata": {
    "collapsed": true
   },
   "outputs": [],
   "source": []
  }
 ],
 "metadata": {
  "kernelspec": {
   "display_name": "Python 3.7",
   "language": "python",
   "name": "python3.7"
  },
  "language_info": {
   "codemirror_mode": {
    "name": "ipython",
    "version": 3
   },
   "file_extension": ".py",
   "mimetype": "text/x-python",
   "name": "python",
   "nbconvert_exporter": "python",
   "pygments_lexer": "ipython3",
   "version": "3.7.0"
  }
 },
 "nbformat": 4,
 "nbformat_minor": 0
}
